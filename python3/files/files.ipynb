{
 "cells": [
  {
   "cell_type": "code",
   "execution_count": 2,
   "metadata": {},
   "outputs": [],
   "source": [
    "a=open(\"file.txt\",\"w\")"
   ]
  },
  {
   "cell_type": "code",
   "execution_count": 8,
   "metadata": {},
   "outputs": [
    {
     "data": {
      "text/plain": [
       "25"
      ]
     },
     "execution_count": 8,
     "metadata": {},
     "output_type": "execute_result"
    }
   ],
   "source": [
    "a.write(\"This is marks of students\")"
   ]
  },
  {
   "cell_type": "code",
   "execution_count": 9,
   "metadata": {},
   "outputs": [],
   "source": [
    "a=open(\"file.txt\",\"r\")"
   ]
  },
  {
   "cell_type": "code",
   "execution_count": 10,
   "metadata": {},
   "outputs": [
    {
     "name": "stdout",
     "output_type": "stream",
     "text": [
      "haiThis is marks of students\n"
     ]
    }
   ],
   "source": [
    "print(a.read())"
   ]
  },
  {
   "cell_type": "code",
   "execution_count": 11,
   "metadata": {},
   "outputs": [],
   "source": [
    "a=open(\"file.txt\",\"a\")"
   ]
  },
  {
   "cell_type": "code",
   "execution_count": 13,
   "metadata": {},
   "outputs": [],
   "source": [
    "import random"
   ]
  },
  {
   "cell_type": "code",
   "execution_count": 17,
   "metadata": {},
   "outputs": [],
   "source": [
    "for i in range(0,50):\n",
    "    a.write(str(random.randint(0,100)))"
   ]
  },
  {
   "cell_type": "code",
   "execution_count": 18,
   "metadata": {},
   "outputs": [],
   "source": [
    "a=open(\"file.txt\",\"r\")"
   ]
  },
  {
   "cell_type": "code",
   "execution_count": 19,
   "metadata": {},
   "outputs": [
    {
     "name": "stdout",
     "output_type": "stream",
     "text": [
      "haiThis is marks of students8979636177426945635984286644640280526380559916655674118473511582926516885785719811553978316775187558986876552563361685162977940100234889335774729833790487355663153734523278239338344073239943557278\n"
     ]
    }
   ],
   "source": [
    "print(a.read())"
   ]
  },
  {
   "cell_type": "code",
   "execution_count": 25,
   "metadata": {},
   "outputs": [
    {
     "name": "stdout",
     "output_type": "stream",
     "text": [
      "42\n",
      "94\n",
      "61\n",
      "29\n",
      "58\n",
      "28\n",
      "55\n",
      "57\n",
      "61\n",
      "95\n",
      "94\n",
      "67\n",
      "53\n",
      "45\n",
      "50\n",
      "56\n",
      "4\n",
      "69\n",
      "18\n",
      "73\n",
      "82\n",
      "12\n",
      "53\n",
      "28\n",
      "60\n",
      "4\n",
      "92\n",
      "79\n",
      "95\n",
      "98\n",
      "39\n",
      "41\n",
      "68\n",
      "15\n",
      "73\n",
      "29\n",
      "84\n",
      "49\n",
      "43\n",
      "15\n",
      "38\n",
      "80\n",
      "29\n",
      "46\n",
      "27\n",
      "1\n",
      "60\n",
      "90\n",
      "20\n",
      "83\n"
     ]
    }
   ],
   "source": [
    "for i in range(0,50):\n",
    "    print(random.randint(0,100))"
   ]
  },
  {
   "cell_type": "code",
   "execution_count": 26,
   "metadata": {},
   "outputs": [],
   "source": [
    "a.close()"
   ]
  },
  {
   "cell_type": "code",
   "execution_count": 27,
   "metadata": {},
   "outputs": [],
   "source": [
    "a=open(\"file.txt\",\"w\")"
   ]
  },
  {
   "cell_type": "code",
   "execution_count": 28,
   "metadata": {},
   "outputs": [
    {
     "name": "stdout",
     "output_type": "stream",
     "text": [
      "2\n",
      "2\n",
      "2\n",
      "3\n",
      "3\n",
      "3\n",
      "2\n",
      "3\n",
      "3\n",
      "3\n",
      "3\n",
      "3\n",
      "2\n",
      "3\n",
      "3\n",
      "3\n",
      "3\n",
      "3\n",
      "3\n",
      "3\n",
      "3\n",
      "3\n",
      "2\n",
      "3\n",
      "3\n",
      "3\n",
      "3\n",
      "3\n",
      "3\n",
      "3\n",
      "3\n",
      "2\n",
      "2\n",
      "3\n",
      "3\n",
      "2\n",
      "3\n",
      "3\n",
      "3\n",
      "3\n",
      "3\n",
      "3\n",
      "3\n",
      "3\n",
      "3\n",
      "3\n",
      "3\n",
      "2\n",
      "3\n",
      "2\n"
     ]
    }
   ],
   "source": [
    "for i in range(0,50):\n",
    "    print(a.write(\"\\n\"+str(random.randint(0,100))))"
   ]
  },
  {
   "cell_type": "code",
   "execution_count": 29,
   "metadata": {},
   "outputs": [],
   "source": [
    "a=open(\"file.txt\",\"r\")"
   ]
  },
  {
   "cell_type": "code",
   "execution_count": 31,
   "metadata": {},
   "outputs": [
    {
     "name": "stdout",
     "output_type": "stream",
     "text": [
      "\n",
      "1\n",
      "0\n",
      "9\n",
      "70\n",
      "32\n",
      "23\n",
      "1\n",
      "61\n",
      "67\n",
      "34\n",
      "59\n",
      "92\n",
      "5\n",
      "53\n",
      "56\n",
      "46\n",
      "60\n",
      "76\n",
      "26\n",
      "37\n",
      "25\n",
      "50\n",
      "6\n",
      "80\n",
      "24\n",
      "26\n",
      "43\n",
      "97\n",
      "84\n",
      "53\n",
      "53\n",
      "5\n",
      "5\n",
      "50\n",
      "33\n",
      "2\n",
      "72\n",
      "76\n",
      "34\n",
      "16\n",
      "53\n",
      "48\n",
      "52\n",
      "28\n",
      "46\n",
      "83\n",
      "38\n",
      "2\n",
      "81\n",
      "0\n"
     ]
    }
   ],
   "source": [
    "print(a.read())"
   ]
  },
  {
   "cell_type": "code",
   "execution_count": 37,
   "metadata": {},
   "outputs": [
    {
     "name": "stdout",
     "output_type": "stream",
     "text": [
      "0 100\n"
     ]
    }
   ],
   "source": [
    "max=0\n",
    "min=100\n",
    "for i in a:\n",
    "    r=a.readline().replace(\"\\n\",\"\")\n",
    "    if(r!=\" \"):\n",
    "        m=int(r)\n",
    "        if min>m:\n",
    "            min=m\n",
    "        if max<m:\n",
    "            max=m\n",
    "print(max,min)"
   ]
  }
 ],
 "metadata": {
  "kernelspec": {
   "display_name": "Python 3",
   "language": "python",
   "name": "python3"
  },
  "language_info": {
   "codemirror_mode": {
    "name": "ipython",
    "version": 3
   },
   "file_extension": ".py",
   "mimetype": "text/x-python",
   "name": "python",
   "nbconvert_exporter": "python",
   "pygments_lexer": "ipython3",
   "version": "3.7.3"
  }
 },
 "nbformat": 4,
 "nbformat_minor": 2
}
