{
 "cells": [
  {
   "cell_type": "code",
   "execution_count": 1,
   "metadata": {},
   "outputs": [],
   "source": [
    "import random"
   ]
  },
  {
   "cell_type": "code",
   "execution_count": 2,
   "metadata": {},
   "outputs": [],
   "source": [
    "with open(\"mark.txt\",\"w\") as f:\n",
    "    for i in range(0,100):\n",
    "        f.write(str(random.randint(1,99)))\n",
    "        f.write(\"\\n\")"
   ]
  },
  {
   "cell_type": "code",
   "execution_count": 3,
   "metadata": {},
   "outputs": [
    {
     "name": "stdout",
     "output_type": "stream",
     "text": [
      "83\n",
      "3\n",
      "55\n",
      "17\n",
      "93\n",
      "47\n",
      "43\n",
      "47\n",
      "15\n",
      "64\n",
      "49\n",
      "60\n",
      "59\n",
      "70\n",
      "43\n",
      "35\n",
      "31\n",
      "50\n",
      "32\n",
      "52\n",
      "1\n",
      "55\n",
      "58\n",
      "80\n",
      "26\n",
      "52\n",
      "16\n",
      "69\n",
      "76\n",
      "42\n",
      "24\n",
      "70\n",
      "44\n",
      "48\n",
      "50\n",
      "49\n",
      "76\n",
      "96\n",
      "14\n",
      "29\n",
      "7\n",
      "12\n",
      "9\n",
      "5\n",
      "52\n",
      "58\n",
      "97\n",
      "79\n",
      "60\n",
      "56\n",
      "2\n",
      "89\n",
      "77\n",
      "46\n",
      "69\n",
      "69\n",
      "6\n",
      "7\n",
      "73\n",
      "54\n",
      "37\n",
      "83\n",
      "29\n",
      "34\n",
      "73\n",
      "80\n",
      "10\n",
      "70\n",
      "47\n",
      "71\n",
      "18\n",
      "87\n",
      "74\n",
      "3\n",
      "89\n",
      "25\n",
      "48\n",
      "17\n",
      "49\n",
      "72\n",
      "90\n",
      "37\n",
      "86\n",
      "59\n",
      "45\n",
      "75\n",
      "57\n",
      "95\n",
      "63\n",
      "67\n",
      "22\n",
      "44\n",
      "74\n",
      "8\n",
      "79\n",
      "88\n",
      "56\n",
      "7\n",
      "3\n",
      "1\n",
      "\n"
     ]
    }
   ],
   "source": [
    "with open(\"mark.txt\",\"r\") as fr:\n",
    "    print(fr.read())"
   ]
  },
  {
   "cell_type": "code",
   "execution_count": 4,
   "metadata": {},
   "outputs": [
    {
     "name": "stdout",
     "output_type": "stream",
     "text": [
      "3\n",
      "\n",
      "17\n",
      "\n",
      "47\n",
      "\n",
      "47\n",
      "\n",
      "64\n",
      "\n"
     ]
    }
   ],
   "source": [
    "with open(\"mark.txt\",\"r\") as f:\n",
    "    for i in range(0,5):\n",
    "        if(f.readline()!=\"\\n\"):\n",
    "            print(f.readline())"
   ]
  },
  {
   "cell_type": "code",
   "execution_count": 12,
   "metadata": {},
   "outputs": [
    {
     "name": "stdout",
     "output_type": "stream",
     "text": [
      "0\n",
      "1\n",
      "2\n",
      "3\n",
      "4\n",
      "5\n",
      "6\n",
      "7\n",
      "8\n",
      "9\n",
      "[['0', '1', '2', '3', '4', '5', '6', '7', '8', '9'], [')', '!', '@', '#', '$', '%', '^', '&', '*', '(']]\n"
     ]
    }
   ],
   "source": [
    "key_list=[[],[]]\n",
    "with open(\"key.txt\",\"r\") as key:\n",
    "    for i in range(0,10):\n",
    "        m=key.readline()\n",
    "        print(m[0])\n",
    "        key_list[0].append(m[0])\n",
    "        key_list[1].append(m[1])\n",
    "    print(key_list)\n",
    "with open(\"mark.txt\",\"r\") as f:\n",
    "    with open(\"encrypt.txt\",\"a\") as new:\n",
    "        for i in range(0,100):\n",
    "            line=f.readline()\n",
    "            x=int(line)%10\n",
    "            y=int(int(line)/10)\n",
    "            new.write(key_list[1][y])\n",
    "            new.write(key_list[1][x])\n",
    "            new.write(\"\\n\")"
   ]
  },
  {
   "cell_type": "code",
   "execution_count": 18,
   "metadata": {},
   "outputs": [
    {
     "name": "stdout",
     "output_type": "stream",
     "text": [
      "0\n",
      "1\n",
      "2\n",
      "3\n",
      "4\n",
      "5\n",
      "6\n",
      "7\n",
      "8\n",
      "9\n",
      "[['0', '1', '2', '3', '4', '5', '6', '7', '8', '9'], [')', '!', '@', '#', '$', '%', '^', '&', '*', '(']]\n"
     ]
    }
   ],
   "source": [
    "key_list=[[],[]]\n",
    "with open(\"key.txt\",\"r\") as key:\n",
    "    for i in range(0,10):\n",
    "        m=key.readline()\n",
    "        print(m[0])\n",
    "        key_list[0].append(m[0])\n",
    "        key_list[1].append(m[1])\n",
    "    print(key_list)\n",
    "with open(\"encrypt.txt\",\"r\") as f:\n",
    "    with open(\"decrypt.txt\",\"a\") as new:\n",
    "        for i in range(0,100):\n",
    "            line=f.readline()\n",
    "            for k in range(0,10):\n",
    "                if line[0]==key_list[1][k]:\n",
    "                    y=k\n",
    "                if line[1]==key_list[1][k]:\n",
    "                    x=k\n",
    "            new.write(key_list[0][y])\n",
    "            new.write(key_list[0][x])\n",
    "            new.write(\"\\n\")"
   ]
  },
  {
   "cell_type": "code",
   "execution_count": null,
   "metadata": {},
   "outputs": [],
   "source": []
  }
 ],
 "metadata": {
  "kernelspec": {
   "display_name": "Python 3",
   "language": "python",
   "name": "python3"
  },
  "language_info": {
   "codemirror_mode": {
    "name": "ipython",
    "version": 3
   },
   "file_extension": ".py",
   "mimetype": "text/x-python",
   "name": "python",
   "nbconvert_exporter": "python",
   "pygments_lexer": "ipython3",
   "version": "3.7.3"
  }
 },
 "nbformat": 4,
 "nbformat_minor": 2
}
