{
 "cells": [
  {
   "cell_type": "markdown",
   "metadata": {},
   "source": [
    "# H1 jyothi\n",
    "## H2 priya\n",
    "### H3 shiv"
   ]
  },
  {
   "cell_type": "markdown",
   "metadata": {},
   "source": [
    "## H2 MSTP@IGIAT\n",
    "--- \n",
    "- Readme.md\n",
    "     + Basic shortcuts\n",
    "- Python\n",
    "        1.Basic of python\n",
    "        2.Selection statments\n",
    "        3.Iteration\n",
    "        4.Arrays(Lists,Sets,Touples and Dictionaries)\n",
    "        5.Pandas\n",
    "        6.Numpy\n",
    "    \n",
    "    `Hai iam jyothi`\n",
    "        ***From pydah college***\n",
    "        \n",
    "    [Google](https://www.google.com/?gws_rd=ssl#spf=1568900766646)\n",
    "       "
   ]
  },
  {
   "cell_type": "code",
   "execution_count": 1,
   "metadata": {},
   "outputs": [
    {
     "name": "stdout",
     "output_type": "stream",
     "text": [
      "20\n",
      "-11\n"
     ]
    }
   ],
   "source": [
    "a,b=15,5\n",
    "print(a+b)\n",
    "\n",
    "\n",
    "c=7\n",
    "d=18\n",
    "print(c-d)"
   ]
  },
  {
   "cell_type": "code",
   "execution_count": 2,
   "metadata": {},
   "outputs": [
    {
     "name": "stdout",
     "output_type": "stream",
     "text": [
      "2 * 1 = 2\n",
      "2 * 2 = 4\n",
      "2 * 3 = 6\n",
      "2 * 4 = 8\n",
      "2 * 5 = 10\n",
      "2 * 6 = 12\n",
      "2 * 7 = 14\n",
      "2 * 8 = 16\n",
      "2 * 9 = 18\n",
      "2 * 10 = 20\n",
      "3 * 1 = 3\n",
      "3 * 2 = 6\n",
      "3 * 3 = 9\n",
      "3 * 4 = 12\n",
      "3 * 5 = 15\n",
      "3 * 6 = 18\n",
      "3 * 7 = 21\n",
      "3 * 8 = 24\n",
      "3 * 9 = 27\n",
      "3 * 10 = 30\n",
      "4 * 1 = 4\n",
      "4 * 2 = 8\n",
      "4 * 3 = 12\n",
      "4 * 4 = 16\n",
      "4 * 5 = 20\n",
      "4 * 6 = 24\n",
      "4 * 7 = 28\n",
      "4 * 8 = 32\n",
      "4 * 9 = 36\n",
      "4 * 10 = 40\n"
     ]
    }
   ],
   "source": [
    "a=[2,3,4]\n",
    "for i in a:\n",
    "    for j in range(1,11):\n",
    "        print(i,\"*\",j,\"=\",i*j)"
   ]
  },
  {
   "cell_type": "code",
   "execution_count": 3,
   "metadata": {},
   "outputs": [
    {
     "name": "stdout",
     "output_type": "stream",
     "text": [
      "7\n",
      "8\n"
     ]
    }
   ],
   "source": [
    "n=int(input())\n",
    "status=0\n",
    "for i in range(2,n//2):\n",
    "    if n%i==0:\n",
    "        status=1\n",
    "if status==0:\n",
    "    print(n+1)\n",
    "else:\n",
    "    print(\"invalid\")"
   ]
  },
  {
   "cell_type": "code",
   "execution_count": 4,
   "metadata": {},
   "outputs": [
    {
     "name": "stdout",
     "output_type": "stream",
     "text": [
      "5\n",
      "2\n",
      "3\n"
     ]
    }
   ],
   "source": [
    "n=int(input())\n",
    "for i in range(2,n+1):\n",
    "    if n%1==0:\n",
    "        for j in range(2,i):\n",
    "            if i%j==0:\n",
    "                status=1\n",
    "        if status==0:\n",
    "            print(i)"
   ]
  },
  {
   "cell_type": "code",
   "execution_count": 5,
   "metadata": {},
   "outputs": [
    {
     "name": "stdout",
     "output_type": "stream",
     "text": [
      "[2, 3, 4, 34, 5, 54]\n"
     ]
    }
   ],
   "source": [
    "l=[2,3,4,4,2,2,34,5,5,54,3,2,]\n",
    "li=[]\n",
    "for i in l:\n",
    "    if i not in li:\n",
    "        li.append(i)\n",
    "print(li)"
   ]
  },
  {
   "cell_type": "code",
   "execution_count": 7,
   "metadata": {},
   "outputs": [
    {
     "name": "stdout",
     "output_type": "stream",
     "text": [
      "hello welcome to string count\n",
      "words 5\n",
      "spaces 4\n",
      "char 25\n",
      "char with space 29\n"
     ]
    }
   ],
   "source": [
    "n=input()\n",
    "s=0\n",
    "l=0\n",
    "for i in n:\n",
    "    if i==\" \":\n",
    "        s+=1\n",
    "    else:\n",
    "        for j in i:\n",
    "            l+=1\n",
    "print(\"words\",s+1)\n",
    "print(\"spaces\",s)\n",
    "print(\"char\",l)\n",
    "print(\"char with space\",s+l)"
   ]
  },
  {
   "cell_type": "code",
   "execution_count": 9,
   "metadata": {},
   "outputs": [
    {
     "name": "stdout",
     "output_type": "stream",
     "text": [
      "j23y%o^th123i\n",
      "jyothi\n"
     ]
    }
   ],
   "source": [
    "s=input()\n",
    "n=\"\"\n",
    "for i in s:\n",
    "    if i.isalpha():\n",
    "        n+=i\n",
    "print(n)"
   ]
  },
  {
   "cell_type": "code",
   "execution_count": 10,
   "metadata": {},
   "outputs": [
    {
     "name": "stdout",
     "output_type": "stream",
     "text": [
      "3\n"
     ]
    }
   ],
   "source": [
    "s=\"\"\"this is multi line\n",
    "count program\n",
    "hi iam jyothi\"\"\"\n",
    "c=0\n",
    "for i in s:\n",
    "    if i==\"\\n\":\n",
    "        c+=1\n",
    "print(c+1)"
   ]
  },
  {
   "cell_type": "code",
   "execution_count": 16,
   "metadata": {},
   "outputs": [
    {
     "name": "stdout",
     "output_type": "stream",
     "text": [
      "a s d f f d s a h h h g f d s j j k l o u y \n",
      "no of a 2\n",
      "no of d 3\n",
      "no of f 3\n",
      "no of h 3\n",
      "no of g 1\n",
      "no of f 1\n",
      "no of d 1\n",
      "no of s 3\n",
      "no of k 1\n",
      "no of l 1\n",
      "no of o 1\n",
      "no of u 1\n",
      "no of y 1\n"
     ]
    }
   ],
   "source": [
    "l=list(input().split())\n",
    "a=0\n",
    "for i in l:\n",
    "    a=l.count(i)\n",
    "    print(\"no of\",i,a)\n",
    "    for j in range(1,a):\n",
    "        l.remove(i)"
   ]
  },
  {
   "cell_type": "code",
   "execution_count": 17,
   "metadata": {},
   "outputs": [
    {
     "name": "stdout",
     "output_type": "stream",
     "text": [
      "www.igiat.com\n",
      "{'w': 3, '.': 2, 'i': 2, 'g': 1, 'a': 1, 't': 1, 'c': 1, 'o': 1, 'm': 1}\n"
     ]
    }
   ],
   "source": [
    "s=input()\n",
    "d={}\n",
    "for i in s:\n",
    "    if i in d:\n",
    "        d[i]+=1\n",
    "    else:\n",
    "        d[i]=1\n",
    "print(d)"
   ]
  },
  {
   "cell_type": "code",
   "execution_count": 18,
   "metadata": {},
   "outputs": [
    {
     "name": "stdout",
     "output_type": "stream",
     "text": [
      "hai jyothi\n",
      "ibj kzpuij!\n"
     ]
    }
   ],
   "source": [
    "s=input()\n",
    "b=\"\"\n",
    "for i in s:\n",
    "    if i==\" \":\n",
    "        b+=i\n",
    "    else:\n",
    "        a=ord(i)\n",
    "        b+=chr(a+1)\n",
    "print(b+\"!\")"
   ]
  },
  {
   "cell_type": "code",
   "execution_count": null,
   "metadata": {},
   "outputs": [],
   "source": []
  }
 ],
 "metadata": {
  "kernelspec": {
   "display_name": "Python 3",
   "language": "python",
   "name": "python3"
  },
  "language_info": {
   "codemirror_mode": {
    "name": "ipython",
    "version": 3
   },
   "file_extension": ".py",
   "mimetype": "text/x-python",
   "name": "python",
   "nbconvert_exporter": "python",
   "pygments_lexer": "ipython3",
   "version": "3.7.3"
  }
 },
 "nbformat": 4,
 "nbformat_minor": 2
}
