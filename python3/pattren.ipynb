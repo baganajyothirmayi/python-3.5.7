{
 "cells": [
  {
   "cell_type": "code",
   "execution_count": 1,
   "metadata": {},
   "outputs": [
    {
     "name": "stdout",
     "output_type": "stream",
     "text": [
      "$ $ $ $ \n",
      "$ $ $ \n",
      "$ $ \n",
      "$ \n"
     ]
    }
   ],
   "source": [
    "for i in range(4):\n",
    "    for j in range(4-i):\n",
    "        print(\"$\",end=\" \")\n",
    "    print()"
   ]
  },
  {
   "cell_type": "code",
   "execution_count": 6,
   "metadata": {},
   "outputs": [
    {
     "name": "stdout",
     "output_type": "stream",
     "text": [
      "$ \n",
      "$ $ \n",
      "$ $ $ \n",
      "$ $ $ $ \n",
      "$ $ $ $ $ \n"
     ]
    }
   ],
   "source": [
    "for i in range(1,6):\n",
    "    for j in range(1,1+i):\n",
    "        print(\"$\",end=\" \")\n",
    "    print()"
   ]
  },
  {
   "cell_type": "code",
   "execution_count": 14,
   "metadata": {},
   "outputs": [
    {
     "name": "stdout",
     "output_type": "stream",
     "text": [
      "   *  *     *  *     \n",
      "*        *        *  \n",
      "*                 *  \n",
      "   *           *     \n",
      "      *     *        \n",
      "         *           \n"
     ]
    }
   ],
   "source": [
    "for i in range(6):\n",
    "    for j in range(7):\n",
    "        if (i==0 and j%3!=0) or (i==1 and j%3==0) or (i-j==2) or (i+j==8):\n",
    "            print(\"*\",end=\"  \")\n",
    "        else:\n",
    "            print(end=\"   \")\n",
    "    print()\n",
    "   "
   ]
  },
  {
   "cell_type": "code",
   "execution_count": 28,
   "metadata": {},
   "outputs": [
    {
     "name": "stdout",
     "output_type": "stream",
     "text": [
      "* * * * * \n",
      "    *     \n",
      "    *     \n",
      "    *     \n",
      "    *     \n",
      "    *     \n",
      "* * *     \n"
     ]
    }
   ],
   "source": [
    "for i in range(7):\n",
    "    for j in range(5):\n",
    "        if j==2 or (i==0 and j!=2) or (i==6 and j<2):\n",
    "            print(\"*\",end=\" \")\n",
    "        else:\n",
    "            print(end=\"  \")\n",
    "    print()"
   ]
  }
 ],
 "metadata": {
  "kernelspec": {
   "display_name": "Python 3",
   "language": "python",
   "name": "python3"
  },
  "language_info": {
   "codemirror_mode": {
    "name": "ipython",
    "version": 3
   },
   "file_extension": ".py",
   "mimetype": "text/x-python",
   "name": "python",
   "nbconvert_exporter": "python",
   "pygments_lexer": "ipython3",
   "version": "3.7.3"
  }
 },
 "nbformat": 4,
 "nbformat_minor": 2
}
