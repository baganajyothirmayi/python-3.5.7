{
 "cells": [
  {
   "cell_type": "code",
   "execution_count": 1,
   "metadata": {},
   "outputs": [
    {
     "name": "stdout",
     "output_type": "stream",
     "text": [
      "25\n"
     ]
    }
   ],
   "source": [
    "f=lambda a: a*a\n",
    "print(f(5))"
   ]
  },
  {
   "cell_type": "code",
   "execution_count": 7,
   "metadata": {},
   "outputs": [
    {
     "name": "stdout",
     "output_type": "stream",
     "text": [
      "[6, 4, 8, 6, 8, 2, 6, 6, 2]\n",
      "[3, 5, 9, 9, 3, 5, 1, 3, 5, 7]\n",
      "[12, 8, 6, 16, 12, 16, 10, 18, 4, 12, 18, 6, 12, 10, 2, 6, 10, 4, 14]\n",
      "98\n"
     ]
    }
   ],
   "source": [
    "from functools import reduce\n",
    "nums=[6,4,3,8,6,8,5,9,2,6,9,3,6,5,1,3,5,2,7]\n",
    "evens=list(filter(lambda n:n%2==0,nums))\n",
    "odds=list(filter(lambda n:n%2!=0,nums))\n",
    "doubles=list(map(lambda n:n*2,nums))\n",
    "sum=reduce(lambda a,b:a+b,nums)\n",
    "print(evens)\n",
    "print(odds)\n",
    "print(doubles)\n",
    "print(sum)"
   ]
  },
  {
   "cell_type": "code",
   "execution_count": null,
   "metadata": {},
   "outputs": [],
   "source": []
  }
 ],
 "metadata": {
  "kernelspec": {
   "display_name": "Python 3",
   "language": "python",
   "name": "python3"
  },
  "language_info": {
   "codemirror_mode": {
    "name": "ipython",
    "version": 3
   },
   "file_extension": ".py",
   "mimetype": "text/x-python",
   "name": "python",
   "nbconvert_exporter": "python",
   "pygments_lexer": "ipython3",
   "version": "3.7.3"
  }
 },
 "nbformat": 4,
 "nbformat_minor": 2
}
