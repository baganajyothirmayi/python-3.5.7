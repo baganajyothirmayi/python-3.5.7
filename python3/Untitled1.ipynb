{
 "cells": [
  {
   "cell_type": "code",
   "execution_count": 2,
   "metadata": {},
   "outputs": [
    {
     "name": "stdout",
     "output_type": "stream",
     "text": [
      "2\n",
      "jyo\n",
      "anu\n",
      "hai\n",
      "priya\n",
      "['anu', 'priya']\n"
     ]
    }
   ],
   "source": [
    "array=[]\n",
    "n=int(input())\n",
    "for i in range(n):\n",
    "    value=input()\n",
    "    array.append(input())\n",
    "print(array)"
   ]
  },
  {
   "cell_type": "code",
   "execution_count": 4,
   "metadata": {},
   "outputs": [
    {
     "name": "stdout",
     "output_type": "stream",
     "text": [
      "3\n",
      "6\n",
      "8\n",
      "4\n",
      "18\n"
     ]
    }
   ],
   "source": [
    "n=int(input())\n",
    "arry=[]\n",
    "for i in range(n):\n",
    "    arry.append(int(input()))\n",
    "print(sum(arry))"
   ]
  },
  {
   "cell_type": "code",
   "execution_count": null,
   "metadata": {},
   "outputs": [],
   "source": []
  }
 ],
 "metadata": {
  "kernelspec": {
   "display_name": "Python 3",
   "language": "python",
   "name": "python3"
  },
  "language_info": {
   "codemirror_mode": {
    "name": "ipython",
    "version": 3
   },
   "file_extension": ".py",
   "mimetype": "text/x-python",
   "name": "python",
   "nbconvert_exporter": "python",
   "pygments_lexer": "ipython3",
   "version": "3.7.3"
  }
 },
 "nbformat": 4,
 "nbformat_minor": 2
}
